{
 "cells": [
  {
   "cell_type": "code",
   "execution_count": 1,
   "id": "ba2ff699",
   "metadata": {},
   "outputs": [],
   "source": [
    "import pandas as pd\n",
    "from sklearn import preprocessing\n",
    "from sklearn.model_selection import train_test_split\n",
    "from sklearn.linear_model import LogisticRegression\n",
    "from sklearn.metrics import accuracy_score, f1_score, recall_score, precision_score\n",
    "\n",
    "data = pd.read_csv(r\"gold_price_yearly CLEANED.csv\")"
   ]
  },
  {
   "cell_type": "code",
   "execution_count": 2,
   "id": "c4a1a37a",
   "metadata": {},
   "outputs": [
    {
     "name": "stdout",
     "output_type": "stream",
     "text": [
      "   Year  Average Closing Price  Year Open  Year High  Year Low  \\\n",
      "0  1969                  41.10      41.80      43.75     35.00   \n",
      "1  1970                  35.96      35.13      39.19     34.78   \n",
      "2  1971                  40.80      37.33      43.90     37.33   \n",
      "3  1972                  58.17      43.73      70.00     43.73   \n",
      "4  1973                  97.12      64.99     127.00     64.10   \n",
      "\n",
      "   Year Range Price  Year Close  Annual % Change  \n",
      "0              8.75       35.21           -0.161  \n",
      "1              4.41       37.38            0.062  \n",
      "2              6.57       43.50            0.164  \n",
      "3             26.27       64.70            0.487  \n",
      "4             62.90      112.25            0.735  \n",
      "Year                       int64\n",
      "Average Closing Price    float64\n",
      "Year Open                float64\n",
      "Year High                float64\n",
      "Year Low                 float64\n",
      "Year Range Price         float64\n",
      "Year Close               float64\n",
      "Annual % Change          float64\n",
      "dtype: object\n"
     ]
    }
   ],
   "source": [
    "print(data.head())\n",
    "print(data.dtypes)"
   ]
  },
  {
   "cell_type": "code",
   "execution_count": 4,
   "id": "e19303be",
   "metadata": {},
   "outputs": [
    {
     "name": "stdout",
     "output_type": "stream",
     "text": [
      "Accuracy: 0.5294117647058824\n",
      "F1 Score: 0.42857142857142855\n",
      "Recall: 0.2727272727272727\n",
      "Precision: 1.0\n"
     ]
    }
   ],
   "source": [
    "data['HighChange'] = (data['Annual % Change'] > data['Annual % Change'].median()).astype(int)\n",
    "\n",
    "features = ['Year Range Price', 'Year High', 'Year Low']\n",
    "target = 'HighChange'\n",
    "\n",
    "# Data cleaning to take out blanks\n",
    "data_clean = data.dropna(subset=features + [target])\n",
    "\n",
    "# Split the data into features (X) and target (y)\n",
    "X = data_clean[features]\n",
    "y = data_clean[target]\n",
    "\n",
    "# Split the data into training and testing sets\n",
    "X_train, X_test, y_train, y_test = train_test_split(X, y, test_size=0.3, random_state=200)\n",
    "\n",
    "# Train a logistic regression model\n",
    "clf = LogisticRegression().fit(X_train, y_train)\n",
    "\n",
    "# Make predictions on the test set\n",
    "y_pred = clf.predict(X_test)\n",
    "\n",
    "# Calculate accuracy and other metrics\n",
    "accuracy = accuracy_score(y_test, y_pred)\n",
    "f1 = f1_score(y_test, y_pred)\n",
    "recall = recall_score(y_test, y_pred)\n",
    "precision = precision_score(y_test, y_pred)\n",
    "\n",
    "print(\"Accuracy:\", accuracy)\n",
    "print(\"F1 Score:\", f1)\n",
    "print(\"Recall:\", recall)\n",
    "print(\"Precision:\", precision)"
   ]
  },
  {
   "cell_type": "code",
   "execution_count": 5,
   "id": "3226b7b8",
   "metadata": {},
   "outputs": [
    {
     "name": "stdout",
     "output_type": "stream",
     "text": [
      "                           Year  Average Closing Price  Year Open  Year High  \\\n",
      "Year                   1.000000               0.846635   0.835866   0.831088   \n",
      "Average Closing Price  0.846635               1.000000   0.988972   0.995816   \n",
      "Year Open              0.835866               0.988972   1.000000   0.983010   \n",
      "Year High              0.831088               0.995816   0.983010   1.000000   \n",
      "Year Low               0.853361               0.996486   0.989314   0.986329   \n",
      "Year Range Price       0.593399               0.795387   0.766858   0.845242   \n",
      "Year Close             0.842499               0.991577   0.970174   0.989994   \n",
      "Annual % Change       -0.166250              -0.103270  -0.179440  -0.070086   \n",
      "HighChange            -0.058220               0.047168  -0.040478   0.078535   \n",
      "\n",
      "                       Year Low  Year Range Price  Year Close  \\\n",
      "Year                   0.853361          0.593399    0.842499   \n",
      "Average Closing Price  0.996486          0.795387    0.991577   \n",
      "Year Open              0.989314          0.766858    0.970174   \n",
      "Year High              0.986329          0.845242    0.989994   \n",
      "Year Low               1.000000          0.745628    0.988020   \n",
      "Year Range Price       0.745628          1.000000    0.799296   \n",
      "Year Close             0.988020          0.799296    1.000000   \n",
      "Annual % Change       -0.123102          0.115789   -0.018076   \n",
      "HighChange             0.023946          0.239927    0.115691   \n",
      "\n",
      "                       Annual % Change  HighChange  \n",
      "Year                         -0.166250   -0.058220  \n",
      "Average Closing Price        -0.103270    0.047168  \n",
      "Year Open                    -0.179440   -0.040478  \n",
      "Year High                    -0.070086    0.078535  \n",
      "Year Low                     -0.123102    0.023946  \n",
      "Year Range Price              0.115789    0.239927  \n",
      "Year Close                   -0.018076    0.115691  \n",
      "Annual % Change               1.000000    0.667215  \n",
      "HighChange                    0.667215    1.000000  \n"
     ]
    }
   ],
   "source": [
    "# Find correlation between features and target\n",
    "correlation = data_clean.corr()\n",
    "\n",
    "print(correlation)"
   ]
  },
  {
   "cell_type": "code",
   "execution_count": null,
   "id": "8004269a",
   "metadata": {},
   "outputs": [],
   "source": []
  }
 ],
 "metadata": {
  "kernelspec": {
   "display_name": "Python 3 (ipykernel)",
   "language": "python",
   "name": "python3"
  },
  "language_info": {
   "codemirror_mode": {
    "name": "ipython",
    "version": 3
   },
   "file_extension": ".py",
   "mimetype": "text/x-python",
   "name": "python",
   "nbconvert_exporter": "python",
   "pygments_lexer": "ipython3",
   "version": "3.9.5"
  }
 },
 "nbformat": 4,
 "nbformat_minor": 5
}
